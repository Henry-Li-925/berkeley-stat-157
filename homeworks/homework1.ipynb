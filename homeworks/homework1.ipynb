{
 "cells": [
  {
   "cell_type": "markdown",
   "metadata": {
    "id": "b77gendV-700"
   },
   "source": [
    "# Homework 1 - Berkeley STAT 157\n",
    "\n",
    "Handout 1/22/2017, due 1/29/2017 by 4pm in Git by committing to your repository. Please ensure that you add the TA Git account to your repository.\n",
    "\n",
    "1. Write all code in the notebook.\n",
    "1. Write all text in the notebook. You can use MathJax to insert math or generic Markdown to insert figures (it's unlikely you'll need the latter).\n",
    "1. **Execute** the notebook and **save** the results.\n",
    "1. To be safe, print the notebook as PDF and add it to the repository, too. Your repository should contain two files: ``homework1.ipynb`` and ``homework1.pdf``.\n",
    "\n",
    "The TA will return the corrected and annotated homework back to you via Git (please give `rythei` access to your repository)."
   ]
  },
  {
   "cell_type": "code",
   "metadata": {
    "id": "w9GY7S7l-701",
    "executionInfo": {
     "status": "ok",
     "timestamp": 1714513894687,
     "user_tz": 240,
     "elapsed": 6832,
     "user": {
      "displayName": "Zhe Li",
      "userId": "16886830346117264430"
     }
    },
    "ExecuteTime": {
     "end_time": "2024-05-01T00:37:43.803660Z",
     "start_time": "2024-05-01T00:37:41.419149Z"
    }
   },
   "source": [
    "import torch\n",
    "import numpy as np"
   ],
   "outputs": [],
   "execution_count": 1
  },
  {
   "cell_type": "markdown",
   "metadata": {
    "id": "jBocNhjT-702"
   },
   "source": [
    "## 1. Speedtest for vectorization\n",
    "\n",
    "Your goal is to measure the speed of linear algebra operations for different levels of vectorization. You need to use `wait_to_read()` on the output to ensure that the result is computed completely, since NDArray uses asynchronous computation. Please see http://beta.mxnet.io/api/ndarray/_autogen/mxnet.ndarray.NDArray.wait_to_read.html for details.\n",
    "\n",
    "1. Construct two matrices $A$ and $B$ with Gaussian random entries of size $4096 \\times 4096$.\n",
    "1. Compute $C = A B$ using matrix-matrix operations and report the time.\n",
    "1. Compute $C = A B$, treating $A$ as a matrix but computing the result for each column of $B$ one at a time. Report the time.\n",
    "1. Compute $C = A B$, treating $A$ and $B$ as collections of vectors. Report the time.\n",
    "1. Bonus question - what changes if you execute this on a GPU?"
   ]
  },
  {
   "cell_type": "code",
   "metadata": {
    "id": "YgSeiVl6-702",
    "executionInfo": {
     "status": "ok",
     "timestamp": 1714513896526,
     "user_tz": 240,
     "elapsed": 1850,
     "user": {
      "displayName": "Zhe Li",
      "userId": "16886830346117264430"
     }
    },
    "ExecuteTime": {
     "end_time": "2024-05-01T00:37:58.069002Z",
     "start_time": "2024-05-01T00:37:57.864985Z"
    }
   },
   "source": [
    "# Construct matrics A and B\n",
    "A = torch.rand(4096,4096)\n",
    "B = torch.rand_like(A)"
   ],
   "outputs": [],
   "execution_count": 2
  },
  {
   "cell_type": "code",
   "source": [
    "# Compute C = AB matrix-matrix multiplication\n",
    "C = torch.mm(A,B)\n",
    "print(C)\n",
    "C.shape"
   ],
   "metadata": {
    "id": "2k_hK_Xk_BOW",
    "colab": {
     "base_uri": "https://localhost:8080/"
    },
    "executionInfo": {
     "status": "ok",
     "timestamp": 1714513902141,
     "user_tz": 240,
     "elapsed": 5617,
     "user": {
      "displayName": "Zhe Li",
      "userId": "16886830346117264430"
     }
    },
    "outputId": "16a3158c-2788-43f8-9376-6b7aa3e80a65",
    "ExecuteTime": {
     "end_time": "2024-05-01T00:38:00.303626Z",
     "start_time": "2024-05-01T00:37:59.682497Z"
    }
   },
   "outputs": [
    {
     "name": "stdout",
     "output_type": "stream",
     "text": [
      "tensor([[1024.8134, 1043.0073, 1023.7675,  ..., 1033.6628, 1022.3378,\n",
      "         1027.2826],\n",
      "        [1015.9437, 1022.1133,  997.8547,  ..., 1021.9542, 1015.9304,\n",
      "         1015.2767],\n",
      "        [1028.1575, 1030.0774, 1010.2744,  ..., 1026.7228, 1016.0489,\n",
      "         1021.8556],\n",
      "        ...,\n",
      "        [1016.6935, 1022.4557,  998.3668,  ..., 1026.2113, 1017.0294,\n",
      "         1014.2944],\n",
      "        [1003.5803, 1013.4774,  982.1767,  ..., 1006.7241,  989.4167,\n",
      "          990.8864],\n",
      "        [1015.0729, 1028.7634,  997.0306,  ..., 1030.0721, 1025.7074,\n",
      "         1023.0061]])\n"
     ]
    },
    {
     "data": {
      "text/plain": [
       "torch.Size([4096, 4096])"
      ]
     },
     "execution_count": 3,
     "metadata": {},
     "output_type": "execute_result"
    }
   ],
   "execution_count": 3
  },
  {
   "cell_type": "code",
   "source": [
    "# Compute C = AB, treating A as a matrix but computing the result for each column of B one at a time. Report the time.\n",
    "C = A * B\n",
    "print(C)"
   ],
   "metadata": {
    "id": "0pFQcCdg_HA2",
    "colab": {
     "base_uri": "https://localhost:8080/"
    },
    "executionInfo": {
     "status": "ok",
     "timestamp": 1714513902142,
     "user_tz": 240,
     "elapsed": 5,
     "user": {
      "displayName": "Zhe Li",
      "userId": "16886830346117264430"
     }
    },
    "outputId": "e8382600-63d8-4129-a0c0-2acb001ac2af",
    "ExecuteTime": {
     "end_time": "2024-05-01T00:38:08.821063Z",
     "start_time": "2024-05-01T00:38:08.793909Z"
    }
   },
   "outputs": [
    {
     "name": "stdout",
     "output_type": "stream",
     "text": [
      "tensor([[0.2175, 0.3455, 0.2794,  ..., 0.0751, 0.4192, 0.1279],\n",
      "        [0.1015, 0.0862, 0.2217,  ..., 0.5084, 0.2679, 0.2547],\n",
      "        [0.2622, 0.0145, 0.0625,  ..., 0.1754, 0.2643, 0.0227],\n",
      "        ...,\n",
      "        [0.1717, 0.0457, 0.6406,  ..., 0.2956, 0.1386, 0.4799],\n",
      "        [0.3730, 0.4364, 0.0450,  ..., 0.0055, 0.0497, 0.6473],\n",
      "        [0.5484, 0.0771, 0.0623,  ..., 0.3378, 0.3878, 0.3050]])\n"
     ]
    }
   ],
   "execution_count": 5
  },
  {
   "cell_type": "code",
   "source": [
    "# Compute C = AB, treating A and B as collections of vectors\n",
    "\n",
    "C = torch.empty(4096, 4096)\n",
    "\n",
    "#for i in range(4096):\n",
    "#  for j in range(4096):\n",
    "#    C[i,j] = torch.dot(A[i, :], B[:, j])\n",
    "# never run it again cuz it takes forever\n",
    "\n",
    "C\n",
    "# C = torch.sum(A_reshaped * B_reshaped, dim = 2)"
   ],
   "metadata": {
    "colab": {
     "base_uri": "https://localhost:8080/"
    },
    "id": "1tjO5p45_Jp2",
    "executionInfo": {
     "status": "ok",
     "timestamp": 1714513902339,
     "user_tz": 240,
     "elapsed": 200,
     "user": {
      "displayName": "Zhe Li",
      "userId": "16886830346117264430"
     }
    },
    "outputId": "27e670c1-2a4a-4f8a-86c3-0bb31facc9de",
    "ExecuteTime": {
     "end_time": "2024-05-01T00:38:12.266164Z",
     "start_time": "2024-05-01T00:38:12.256453Z"
    }
   },
   "outputs": [
    {
     "data": {
      "text/plain": [
       "tensor([[0., 0., 0.,  ..., 0., 0., 0.],\n",
       "        [0., 0., 0.,  ..., 0., 0., 0.],\n",
       "        [0., 0., 0.,  ..., 0., 0., 0.],\n",
       "        ...,\n",
       "        [0., 0., 0.,  ..., 0., 0., 0.],\n",
       "        [0., 0., 0.,  ..., 0., 0., 0.],\n",
       "        [0., 0., 0.,  ..., 0., 0., 0.]])"
      ]
     },
     "execution_count": 6,
     "metadata": {},
     "output_type": "execute_result"
    }
   ],
   "execution_count": 6
  },
  {
   "cell_type": "markdown",
   "metadata": {
    "id": "rUXZfuP0-702"
   },
   "source": [
    "## 2. Semidefinite Matrices\n",
    "\n",
    "Assume that $A \\in \\mathbb{R}^{m \\times n}$ is an arbitrary matrix and that $D \\in \\mathbb{R}^{n \\times n}$ is a diagonal matrix with nonnegative entries.\n",
    "\n",
    "1. Prove that $B = A D A^\\top$ is a positive semidefinite matrix.\n",
    "1. When would it be useful to work with $B$ and when is it better to use $A$ and $D$?"
   ]
  },
  {
   "cell_type": "code",
   "source": [],
   "metadata": {
    "id": "WfJq7PYB-702",
    "executionInfo": {
     "status": "ok",
     "timestamp": 1714513902340,
     "user_tz": 240,
     "elapsed": 3,
     "user": {
      "displayName": "Zhe Li",
      "userId": "16886830346117264430"
     }
    }
   },
   "execution_count": 5,
   "outputs": []
  },
  {
   "cell_type": "markdown",
   "metadata": {
    "id": "DxzmBFoG-702"
   },
   "source": [
    "## 3. MXNet on GPUs\n",
    "\n",
    "1. Install GPU drivers (if needed)\n",
    "1. Install MXNet on a GPU instance\n",
    "1. Display `!nvidia-smi`\n",
    "1. Create a $2 \\times 2$ matrix on the GPU and print it. See http://d2l.ai/chapter_deep-learning-computation/use-gpu.html for details."
   ]
  },
  {
   "cell_type": "code",
   "execution_count": 5,
   "metadata": {
    "id": "60iLsOzz-703",
    "executionInfo": {
     "status": "ok",
     "timestamp": 1714513902340,
     "user_tz": 240,
     "elapsed": 3,
     "user": {
      "displayName": "Zhe Li",
      "userId": "16886830346117264430"
     }
    }
   },
   "outputs": [],
   "source": []
  },
  {
   "cell_type": "markdown",
   "metadata": {
    "id": "zE7jv3So-703"
   },
   "source": [
    "## 4. NDArray and NumPy\n",
    "\n",
    "Your goal is to measure the speed penalty between MXNet Gluon and Python when converting data between both. We are going to do this as follows:\n",
    "\n",
    "1. Create two Gaussian random matrices $A, B$ of size $4096 \\times 4096$ in NDArray.\n",
    "1. Compute a vector $\\mathbf{c} \\in \\mathbb{R}^{4096}$ where $c_i = \\|A B_{i\\cdot}\\|^2$ where $\\mathbf{c}$ is a **NumPy** vector.\n",
    "\n",
    "To see the difference in speed due to Python perform the following two experiments and measure the time:\n",
    "\n",
    "1. Compute $\\|A B_{i\\cdot}\\|^2$ one at a time and assign its outcome to $\\mathbf{c}_i$ directly.\n",
    "1. Use an intermediate storage vector $\\mathbf{d}$ in NDArray for assignments and copy to NumPy at the end."
   ]
  },
  {
   "cell_type": "code",
   "metadata": {
    "colab": {
     "base_uri": "https://localhost:8080/"
    },
    "id": "1j-XSZ-M-703",
    "executionInfo": {
     "status": "ok",
     "timestamp": 1714513956209,
     "user_tz": 240,
     "elapsed": 53872,
     "user": {
      "displayName": "Zhe Li",
      "userId": "16886830346117264430"
     }
    },
    "outputId": "b19d7bfe-60aa-4950-929b-248a483209ef",
    "ExecuteTime": {
     "end_time": "2024-05-01T00:41:16.437215Z",
     "start_time": "2024-05-01T00:40:56.842690Z"
    }
   },
   "source": [
    "# compute the norm one at a time and assign its outcome to the np.ndarray\n",
    "A = np.random.randn(4096,4096)\n",
    "B = np.random.randn(4096,4096)\n",
    "\n",
    "c = np.empty(4096)\n",
    "\n",
    "for i in range(4096):\n",
    "  d = np.dot(A, B[:,i])\n",
    "  c[i] = np.power(np.linalg.norm(d), 2)\n",
    "\n",
    "c"
   ],
   "outputs": [
    {
     "data": {
      "text/plain": [
       "array([16158876.67086491, 16390859.91058355, 17272704.82060322, ...,\n",
       "       16790162.20973532, 17147823.40055027, 16909854.45794852])"
      ]
     },
     "execution_count": 9,
     "metadata": {},
     "output_type": "execute_result"
    }
   ],
   "execution_count": 9
  },
  {
   "cell_type": "code",
   "source": [
    "# use a torch.tensor object as an intermediate storage and copy to np.ndarray object at the end\n",
    "A = torch.rand(4096,4096)\n",
    "B = torch.rand(4096,4096)\n",
    "\n",
    "d = torch.empty(4096)\n",
    "\n",
    "for i in range(4096):\n",
    "  f = torch.mv(A, B[:, i])\n",
    "  d[i] = np.power(torch.norm(f), 2)\n",
    "\n",
    "c = d.numpy()\n",
    "c"
   ],
   "metadata": {
    "colab": {
     "base_uri": "https://localhost:8080/"
    },
    "id": "gQvQdXvD_YVn",
    "executionInfo": {
     "status": "ok",
     "timestamp": 1714513986990,
     "user_tz": 240,
     "elapsed": 30782,
     "user": {
      "displayName": "Zhe Li",
      "userId": "16886830346117264430"
     }
    },
    "outputId": "6fa308b4-1fe5-4a5d-b0f6-00a4e3a955ed",
    "ExecuteTime": {
     "end_time": "2024-05-01T00:42:54.949633Z",
     "start_time": "2024-05-01T00:41:19.285295Z"
    }
   },
   "outputs": [
    {
     "data": {
      "text/plain": [
       "array([4.3437932e+09, 4.3491343e+09, 4.3092475e+09, ..., 4.3677455e+09,\n",
       "       4.2696269e+09, 4.2702579e+09], dtype=float32)"
      ]
     },
     "execution_count": 10,
     "metadata": {},
     "output_type": "execute_result"
    }
   ],
   "execution_count": 10
  },
  {
   "cell_type": "markdown",
   "metadata": {
    "id": "5nouIeIo-703"
   },
   "source": [
    "## 5. Memory efficient computation\n",
    "\n",
    "We want to compute $C \\leftarrow A \\cdot B + C$, where $A, B$ and $C$ are all matrices. Implement this in the most memory efficient manner. Pay attention to the following two things:\n",
    "\n",
    "1. Do not allocate new memory for the new value of $C$.\n",
    "1. Do not allocate new memory for intermediate results if possible."
   ]
  },
  {
   "cell_type": "code",
   "execution_count": 7,
   "metadata": {
    "id": "tefE4zb5-703",
    "executionInfo": {
     "status": "ok",
     "timestamp": 1714513986990,
     "user_tz": 240,
     "elapsed": 17,
     "user": {
      "displayName": "Zhe Li",
      "userId": "16886830346117264430"
     }
    }
   },
   "outputs": [],
   "source": []
  },
  {
   "cell_type": "markdown",
   "metadata": {
    "id": "EtWnsa2Q-703"
   },
   "source": [
    "## 6. Broadcast Operations\n",
    "\n",
    "In order to perform polynomial fitting we want to compute a design matrix $A$ with\n",
    "\n",
    "$$A_{ij} = x_i^j$$\n",
    "\n",
    "Our goal is to implement this **without a single for loop** entirely using vectorization and broadcast. Here $1 \\leq j \\leq 20$ and $x = \\{-10, -9.9, \\ldots 10\\}$. Implement code that generates such a matrix."
   ]
  },
  {
   "cell_type": "code",
   "execution_count": 7,
   "metadata": {
    "id": "VC6_AV7d-703",
    "executionInfo": {
     "status": "ok",
     "timestamp": 1714513986990,
     "user_tz": 240,
     "elapsed": 16,
     "user": {
      "displayName": "Zhe Li",
      "userId": "16886830346117264430"
     }
    }
   },
   "outputs": [],
   "source": []
  }
 ],
 "metadata": {
  "celltoolbar": "Slideshow",
  "kernelspec": {
   "display_name": "Python 3",
   "language": "python",
   "name": "python3"
  },
  "language_info": {
   "codemirror_mode": {
    "name": "ipython",
    "version": 3
   },
   "file_extension": ".py",
   "mimetype": "text/x-python",
   "name": "python",
   "nbconvert_exporter": "python",
   "pygments_lexer": "ipython3",
   "version": "3.7.0"
  },
  "colab": {
   "provenance": []
  }
 },
 "nbformat": 4,
 "nbformat_minor": 0
}
